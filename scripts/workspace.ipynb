{
 "cells": [
  {
   "cell_type": "code",
   "execution_count": 1,
   "metadata": {},
   "outputs": [],
   "source": [
    "axis_name = {0: 'x', 1: 'y', 2: 'z'}"
   ]
  },
  {
   "cell_type": "code",
   "execution_count": 3,
   "metadata": {},
   "outputs": [
    {
     "data": {
      "text/plain": [
       "'x'"
      ]
     },
     "execution_count": 3,
     "metadata": {},
     "output_type": "execute_result"
    }
   ],
   "source": [
    "axis_name[0]"
   ]
  },
  {
   "cell_type": "code",
   "execution_count": 14,
   "metadata": {},
   "outputs": [
    {
     "name": "stderr",
     "output_type": "stream",
     "text": [
      "/n/home13/csun21/miniconda3/envs/md/lib/python3.7/site-packages/ipykernel_launcher.py:10: UserWarning: Matplotlib is currently using agg, which is a non-GUI backend, so cannot show the figure.\n",
      "  # Remove the CWD from sys.path while we load stuff.\n"
     ]
    }
   ],
   "source": [
    "fig, axes = plt.subplots(1,1)\n",
    "\n",
    "df = pd.read_csv('../HEWLmd/run1/conductivity_results.txt', names=['path', 'sigma', 'a', 'b', 'c'])\n",
    "df['c'] = [float(i[1:-1]) for i in df['c'].tolist()]\n",
    "\n",
    "# sns.scatterplot(data=df[df['sigma'] <= 0.75e17], x='c', y='sigma', ax=axes)\n",
    "sns.scatterplot(data=df[df['c'] >= 0.1], x='c', y='sigma', ax=axes)\n",
    "\n",
    "plt.savefig('HEWL sigma.png')\n",
    "plt.show()"
   ]
  },
  {
   "cell_type": "code",
   "execution_count": 38,
   "metadata": {},
   "outputs": [
    {
     "data": {
      "text/plain": [
       "Unit({BaseUnit(base_dim=BaseDimension(\"charge\"), name=\"elementary charge\", symbol=\"e\"): 1.0})"
      ]
     },
     "execution_count": 38,
     "metadata": {},
     "output_type": "execute_result"
    }
   ],
   "source": [
    "elementary_charge"
   ]
  },
  {
   "cell_type": "code",
   "execution_count": 37,
   "metadata": {},
   "outputs": [
    {
     "data": {
      "text/html": [
       "<div>\n",
       "<style scoped>\n",
       "    .dataframe tbody tr th:only-of-type {\n",
       "        vertical-align: middle;\n",
       "    }\n",
       "\n",
       "    .dataframe tbody tr th {\n",
       "        vertical-align: top;\n",
       "    }\n",
       "\n",
       "    .dataframe thead th {\n",
       "        text-align: right;\n",
       "    }\n",
       "</style>\n",
       "<table border=\"1\" class=\"dataframe\">\n",
       "  <thead>\n",
       "    <tr style=\"text-align: right;\">\n",
       "      <th></th>\n",
       "      <th>path</th>\n",
       "      <th>sigma</th>\n",
       "      <th>a</th>\n",
       "      <th>b</th>\n",
       "      <th>c</th>\n",
       "    </tr>\n",
       "  </thead>\n",
       "  <tbody>\n",
       "    <tr>\n",
       "      <th>4</th>\n",
       "      <td>../md_out/ions/0.346M-0.2-a.h5</td>\n",
       "      <td>3.055645e+16</td>\n",
       "      <td>0.346M</td>\n",
       "      <td>1</td>\n",
       "      <td>0.2</td>\n",
       "    </tr>\n",
       "    <tr>\n",
       "      <th>10</th>\n",
       "      <td>../md_out/ions/0.172M-0.2-a.h5</td>\n",
       "      <td>-2.214592e+16</td>\n",
       "      <td>0.172M</td>\n",
       "      <td>1</td>\n",
       "      <td>0.2</td>\n",
       "    </tr>\n",
       "  </tbody>\n",
       "</table>\n",
       "</div>"
      ],
      "text/plain": [
       "                              path         sigma       a  b    c\n",
       "4   ../md_out/ions/0.346M-0.2-a.h5  3.055645e+16  0.346M  1  0.2\n",
       "10  ../md_out/ions/0.172M-0.2-a.h5 -2.214592e+16  0.172M  1  0.2"
      ]
     },
     "execution_count": 37,
     "metadata": {},
     "output_type": "execute_result"
    }
   ],
   "source": [
    "df[df['c']==0.2]"
   ]
  },
  {
   "cell_type": "code",
   "execution_count": 2,
   "metadata": {},
   "outputs": [
    {
     "name": "stderr",
     "output_type": "stream",
     "text": [
      "/n/home13/csun21/miniconda3/envs/md/lib/python3.7/site-packages/ipykernel_launcher.py:26: UserWarning: Matplotlib is currently using agg, which is a non-GUI backend, so cannot show the figure.\n"
     ]
    }
   ],
   "source": [
    "fig, axes = plt.subplots(3,1, figsize=(12,12))\n",
    "\n",
    "df = pd.read_csv('../md_out/ions/x_conductivity_results.txt', names=['path', 'sigma', 'a', 'b', 'c'])\n",
    "df['c'] = [float(i[1:-1]) for i in df['c'].tolist()]\n",
    "df['a'] = [i.split('/')[-1].split('-')[0] for i in df['path'].tolist()]\n",
    "\n",
    "lesser = df[df['a'] == '0.172M'].copy()\n",
    "\n",
    "sns.scatterplot(data=lesser[lesser['c'] <= 1.2], x='c', y='sigma', ax=axes[0])\n",
    "sns.scatterplot(data=lesser[lesser['c'] > 1.2], x='c', y='sigma', ax=axes[1])\n",
    "sns.scatterplot(data=lesser[lesser['c'] <= 1.2], x='c', y='sigma', ax=axes[2])\n",
    "axes[0].set_title('0.172M')\n",
    "axes[0].set(ylabel='S/cm')\n",
    "axes[0].set(xlabel='')\n",
    "\n",
    "axes[1].set_title('0.172M')\n",
    "axes[1].set(ylabel='S/cm')\n",
    "axes[1].set(xlabel='')\n",
    "\n",
    "axes[2].set_title('0.346M')\n",
    "axes[2].set(xlabel='MV/cm')\n",
    "axes[2].set(ylabel='S/cm')\n",
    "\n",
    "\n",
    "plt.savefig('ion box along x sigma.png')\n",
    "plt.show()"
   ]
  },
  {
   "cell_type": "code",
   "execution_count": 28,
   "metadata": {},
   "outputs": [],
   "source": [
    "fig, axes = plt.subplots(2,1, figsize=(12,20))\n",
    "\n",
    "df = pd.read_csv('../md_out/ions/results_z.txt', names=['path', 'sigma', 'a', 'b', 'c'])\n",
    "df['c'] = [float(i[1:-1]) for i in df['c'].tolist()]\n",
    "df['a'] = [i.split('/')[-1].split('-')[0] for i in df['path'].tolist()]\n",
    "\n",
    "\n",
    "sns.scatterplot(data=df[df['a'] == '0.346M'], x='c', y='sigma', ax=axes[0])\n",
    "sns.scatterplot(data=df[df['a'] == '0.172M'], x='c', y='sigma', ax=axes[1])\n",
    "plt.savefig('ion box along z sigma.png')\n"
   ]
  },
  {
   "cell_type": "code",
   "execution_count": 2,
   "metadata": {},
   "outputs": [],
   "source": [
    "import mdtools\n",
    "from simtk.unit import *\n",
    "from simtk.openmm.app import ForceField, Topology\n",
    "\n",
    "import mdtraj\n",
    "import numpy as np\n",
    "import pandas as pd\n",
    "import matplotlib.pyplot as plt\n",
    "import matplotlib\n",
    "import seaborn as sns\n",
    "# matplotlib.use('Agg')\n",
    "\n",
    "from scipy import stats\n",
    "\n",
    "import re\n",
    "import sys\n",
    "import glob\n",
    "import ast\n",
    "\n",
    "from new_functions import *\n",
    "\n",
    "sns.set_theme(style=\"darkgrid\")\n"
   ]
  },
  {
   "cell_type": "code",
   "execution_count": 1,
   "metadata": {},
   "outputs": [],
   "source": [
    "\n",
    "\n",
    "\n",
    "atoms = mdtraj.load_frame('../crystalmd/run1/NVT-1.0-a.h5', 0)\n",
    "lys = atoms.top.select('protein or backbone')\n",
    "lys_traj = mdtraj.load('../crystalmd/run1/NVT-1.0-a.h5', stride=50)\n",
    "\n",
    "side = np.mean(lys_traj.unitcell_lengths, axis=0)[2]\n",
    "\n",
    "\n",
    "x_index = pd.DataFrame(lys_traj.xyz[:,:,0])\n",
    "y_index = pd.DataFrame(lys_traj.xyz[:,:,1])\n",
    "z_index = pd.DataFrame(lys_traj.xyz[:,:,2])\n",
    "\n",
    "\n",
    "diff = x_index.diff()\n",
    "diff[diff > .95*side] -= side\n",
    "diff[diff < -.95*side] += side\n",
    "for col in diff:\n",
    "    x_index[col] = pd.DataFrame(np.r_[x_index[col].iloc[0], diff[col].iloc[1:]].cumsum())\n",
    "    \n",
    "x_index = x_index.dropna()\n",
    "\n",
    "\n",
    "\n",
    "diff = y_index.diff()\n",
    "diff[diff > .95*side] -= side\n",
    "diff[diff < -.95*side] += side\n",
    "for col in diff:\n",
    "    y_index[col] = pd.DataFrame(np.r_[y_index[col].iloc[0], diff[col].iloc[1:]].cumsum())\n",
    "    \n",
    "y_index = y_index.dropna()\n",
    "\n",
    "fig, axes = plt.subplots(1,1)\n",
    "\n",
    "diff = z_index.diff()\n",
    "diff[diff > .95*side] -= side\n",
    "diff[diff < -.95*side] += side\n",
    "for col in diff:\n",
    "    z_index[col] = pd.DataFrame(np.r_[z_index[col].iloc[0], diff[col].iloc[1:]].cumsum())\n",
    "\n",
    "z_index = z_index.dropna()\n",
    "\n",
    "lys_traj.xyz[:,:,0] = x_index.to_numpy()\n",
    "lys_traj.xyz[:,:,1] = y_index.to_numpy()\n",
    "lys_traj.xyz[:,:,2] = z_index.to_numpy()\n",
    "\n",
    "\n",
    "\n"
   ]
  },
  {
   "cell_type": "code",
   "execution_count": 13,
   "metadata": {},
   "outputs": [],
   "source": [
    "alls = atoms.top.select('all')"
   ]
  },
  {
   "cell_type": "code",
   "execution_count": null,
   "metadata": {},
   "outputs": [],
   "source": []
  },
  {
   "cell_type": "code",
   "execution_count": 27,
   "metadata": {},
   "outputs": [],
   "source": [
    "lys_traj.superpose(lys_traj, frame=50, atom_indices=, ref_atom_indices= )"
   ]
  },
  {
   "cell_type": "code",
   "execution_count": 28,
   "metadata": {},
   "outputs": [
    {
     "data": {
      "text/plain": [
       "array([[[ True,  True,  True],\n",
       "        [ True,  True,  True],\n",
       "        [ True,  True,  True],\n",
       "        ...,\n",
       "        [ True,  True,  True],\n",
       "        [ True,  True,  True],\n",
       "        [ True,  True,  True]],\n",
       "\n",
       "       [[ True,  True,  True],\n",
       "        [ True,  True,  True],\n",
       "        [ True,  True,  True],\n",
       "        ...,\n",
       "        [ True,  True,  True],\n",
       "        [ True,  True,  True],\n",
       "        [ True,  True,  True]],\n",
       "\n",
       "       [[ True,  True,  True],\n",
       "        [ True,  True,  True],\n",
       "        [ True,  True,  True],\n",
       "        ...,\n",
       "        [ True,  True,  True],\n",
       "        [ True,  True,  True],\n",
       "        [ True,  True,  True]],\n",
       "\n",
       "       ...,\n",
       "\n",
       "       [[ True,  True,  True],\n",
       "        [ True,  True,  True],\n",
       "        [ True,  True,  True],\n",
       "        ...,\n",
       "        [ True,  True,  True],\n",
       "        [ True,  True,  True],\n",
       "        [ True,  True,  True]],\n",
       "\n",
       "       [[ True,  True,  True],\n",
       "        [ True,  True,  True],\n",
       "        [ True,  True,  True],\n",
       "        ...,\n",
       "        [ True,  True,  True],\n",
       "        [ True,  True,  True],\n",
       "        [ True,  True,  True]],\n",
       "\n",
       "       [[ True,  True,  True],\n",
       "        [ True,  True,  True],\n",
       "        [ True,  True,  True],\n",
       "        ...,\n",
       "        [ True,  True,  True],\n",
       "        [ True,  True,  True],\n",
       "        [ True,  True,  True]]])"
      ]
     },
     "execution_count": 28,
     "metadata": {},
     "output_type": "execute_result"
    }
   ],
   "source": [
    "aligned.xyz == lys_traj.xyz"
   ]
  },
  {
   "cell_type": "code",
   "execution_count": 1,
   "metadata": {},
   "outputs": [],
   "source": [
    "import mdtools\n",
    "from simtk.unit import *\n",
    "from simtk.openmm.app import ForceField, Topology\n",
    "\n",
    "import mdtraj\n",
    "import numpy as np\n",
    "import pandas as pd\n",
    "import matplotlib.pyplot as plt\n",
    "import matplotlib\n",
    "import seaborn as sns\n",
    "# matplotlib.use('Agg')\n",
    "\n",
    "from scipy import stats\n",
    "\n",
    "import re\n",
    "import sys\n",
    "import glob\n",
    "import ast\n",
    "\n",
    "from new_functions import *"
   ]
  },
  {
   "cell_type": "code",
   "execution_count": 2,
   "metadata": {},
   "outputs": [],
   "source": [
    "atoms = mdtraj.load_frame('../crystalmd/run1/NVT-1.0-a.h5', 0)\n",
    "lys = atoms.top.select('protein or backbone')\n",
    "lys_traj = mdtraj.load('../crystalmd/run1/NVT-1.0-a.h5', atom_indices=lys, stride=50)"
   ]
  },
  {
   "cell_type": "code",
   "execution_count": 3,
   "metadata": {},
   "outputs": [
    {
     "data": {
      "text/plain": [
       "<mdtraj.Trajectory with 401 frames, 31360 atoms, 2064 residues, and unitcells at 0x2afdd3d0bd50>"
      ]
     },
     "execution_count": 3,
     "metadata": {},
     "output_type": "execute_result"
    }
   ],
   "source": [
    "lys_traj"
   ]
  },
  {
   "cell_type": "code",
   "execution_count": 4,
   "metadata": {},
   "outputs": [],
   "source": [
    "x_index = pd.DataFrame(lys_traj.xyz[:,:,0])\n",
    "y_index = pd.DataFrame(lys_traj.xyz[:,:,1])\n",
    "z_index = pd.DataFrame(lys_traj.xyz[:,:,2])"
   ]
  },
  {
   "cell_type": "code",
   "execution_count": 6,
   "metadata": {},
   "outputs": [],
   "source": [
    "side = np.mean(lys_traj.unitcell_lengths, axis=0)[2]"
   ]
  },
  {
   "cell_type": "code",
   "execution_count": 7,
   "metadata": {},
   "outputs": [],
   "source": [
    "diff = x_index.diff()\n",
    "diff[diff > .95*side] -= side\n",
    "diff[diff < -.95*side] += side\n",
    "for col in diff:\n",
    "    x_index[col] = pd.DataFrame(np.r_[x_index[col].iloc[0], diff[col].iloc[1:]].cumsum())\n",
    "    \n",
    "x_index = x_index.dropna()\n",
    "\n",
    "\n",
    "\n",
    "diff = y_index.diff()\n",
    "diff[diff > .95*side] -= side\n",
    "diff[diff < -.95*side] += side\n",
    "for col in diff:\n",
    "    y_index[col] = pd.DataFrame(np.r_[y_index[col].iloc[0], diff[col].iloc[1:]].cumsum())\n",
    "    \n",
    "y_index = y_index.dropna()\n",
    "\n",
    "fig, axes = plt.subplots(1,1)\n",
    "\n",
    "diff = z_index.diff()\n",
    "diff[diff > .95*side] -= side\n",
    "diff[diff < -.95*side] += side\n",
    "for col in diff:\n",
    "    z_index[col] = pd.DataFrame(np.r_[z_index[col].iloc[0], diff[col].iloc[1:]].cumsum())\n",
    "\n",
    "z_index = z_index.dropna()\n",
    "\n"
   ]
  },
  {
   "cell_type": "code",
   "execution_count": 17,
   "metadata": {},
   "outputs": [],
   "source": [
    "lys_traj.xyz[:,:,0] = x_index.to_numpy()\n",
    "lys_traj.xyz[:,:,1] = y_index.to_numpy()\n",
    "lys_traj.xyz[:,:,2] = z_index.to_numpy()"
   ]
  },
  {
   "cell_type": "code",
   "execution_count": 18,
   "metadata": {},
   "outputs": [],
   "source": [
    "lys_traj.save('formatted.pdb')"
   ]
  },
  {
   "cell_type": "code",
   "execution_count": 19,
   "metadata": {},
   "outputs": [
    {
     "ename": "TypeError",
     "evalue": "superpose() missing 1 required positional argument: 'reference'",
     "output_type": "error",
     "traceback": [
      "\u001b[0;31m---------------------------------------------------------------------------\u001b[0m",
      "\u001b[0;31mTypeError\u001b[0m                                 Traceback (most recent call last)",
      "\u001b[0;32m<ipython-input-19-e58d148aa7e2>\u001b[0m in \u001b[0;36m<module>\u001b[0;34m\u001b[0m\n\u001b[0;32m----> 1\u001b[0;31m \u001b[0mlys_traj\u001b[0m\u001b[0;34m.\u001b[0m\u001b[0msuperpose\u001b[0m\u001b[0;34m(\u001b[0m\u001b[0;34m)\u001b[0m\u001b[0;34m\u001b[0m\u001b[0;34m\u001b[0m\u001b[0m\n\u001b[0m",
      "\u001b[0;31mTypeError\u001b[0m: superpose() missing 1 required positional argument: 'reference'"
     ]
    }
   ],
   "source": [
    "lys_traj.superpose(lys_traj, ref_atoms_indicies=)"
   ]
  },
  {
   "cell_type": "code",
   "execution_count": null,
   "metadata": {},
   "outputs": [],
   "source": []
  },
  {
   "cell_type": "code",
   "execution_count": null,
   "metadata": {},
   "outputs": [],
   "source": [
    "fig, axes = plt.subplots(1,1)\n",
    "for i in range(10):\n",
    "sns.lineplot(x=range(len(x_index)), y=x_index[i], ax=axes, palette='mako')\n",
    "plt.suptitle('x movement')\n",
    "axes.set(xlabel='frames * 50', ylabel='x coord')\n",
    "plt.savefig(\"x.png\")\n",
    "\n",
    "for i in range(10):\n",
    "sns.lineplot(x=range(len(z_index)), y=z_index[i], ax=axes)\n",
    "plt.suptitle('z movement')\n",
    "axes.set(xlabel='frames * 50', ylabel='z coord')\n",
    "plt.savefig(\"z.png\")\n",
    "\n",
    "for i in range(10):\n",
    "    sns.lineplot(x=range(len(y_index)), y=y_index[i], ax=axes, palette='mako')\n",
    "plt.suptitle('y movement')\n",
    "axes.set(xlabel='frames * 50', ylabel='y coord')\n",
    "plt.savefig(\"y.png\")"
   ]
  },
  {
   "cell_type": "code",
   "execution_count": 13,
   "metadata": {},
   "outputs": [],
   "source": [
    "\n",
    "atoms = mdtraj.load_frame('../crystalmd/run1/NVT-1.0-a.h5', 0)\n",
    "protein = atoms.top.select('protein')\n",
    "protein_traj = mdtraj.load('../crystalmd/run1/NVT-1.0-a.h5', atom_indices=protein, stride=50)"
   ]
  },
  {
   "cell_type": "code",
   "execution_count": 24,
   "metadata": {},
   "outputs": [],
   "source": [
    "rmsds = mdtraj.rmsd(protein_traj, protein_traj, 0) "
   ]
  },
  {
   "cell_type": "code",
   "execution_count": 32,
   "metadata": {},
   "outputs": [],
   "source": [
    "fig, axes = plt.subplots(1,1, figsize=(12,8))\n",
    "sns.scatterplot(x=range(len(rmsds)), y=rmsds, ax=axes)\n",
    "axes.set(xlabel='frame * 50', ylabel='rmsd')\n",
    "plt.suptitle('rmsds = mdtraj.rmsd(protein_traj, protein_traj, 0)')\n",
    "plt.savefig('test.png')"
   ]
  },
  {
   "cell_type": "code",
   "execution_count": 6,
   "metadata": {},
   "outputs": [],
   "source": [
    "files = glob.glob(f\"../crystalmd/irun1/*.h5\")\n",
    "index = []\n",
    "for i in files:\n",
    "    index.append(float(re.findall('iter\\w+', i)[0][-2:]))"
   ]
  },
  {
   "cell_type": "code",
   "execution_count": 2,
   "metadata": {},
   "outputs": [],
   "source": [
    "df = pd.read_csv('../crystalmd/new_conduct.txt')"
   ]
  },
  {
   "cell_type": "code",
   "execution_count": 45,
   "metadata": {},
   "outputs": [],
   "source": [
    "sigmas = []\n",
    "efs = []\n",
    "\n",
    "for sigma, ef in zip(df[df.columns[1]].tolist(), df[df.columns[4]].tolist()):\n",
    "    sigmas.append(float(sigma))\n",
    "    efs.append(float(ef[1:-1]))"
   ]
  },
  {
   "cell_type": "code",
   "execution_count": 46,
   "metadata": {},
   "outputs": [],
   "source": [
    "ok = pd.DataFrame()\n",
    "ok['Conductivity S/cm'] = np.multiply(sigmas, 1e12)\n",
    "ok['EF MV/cm'] = efs\n",
    "ok = ok.sort_values('EF MV/cm')"
   ]
  },
  {
   "cell_type": "code",
   "execution_count": 47,
   "metadata": {},
   "outputs": [],
   "source": [
    "fig, axes = plt.subplots(2,1, figsize=(12,8))\n",
    "sns.pointplot(data=ok, x='EF MV/cm', y='Conductivity S/cm', ax=axes[0], color='dodgerblue')\n",
    "sns.scatterplot(data=ok, x='EF MV/cm', y='Conductivity S/cm', ax=axes[1], color='dodgerblue')\n",
    "axes[0].axhline(534 * 1e6, color='salmon')\n",
    "axes[1].axhline(534 * 1e6, color='salmon')\n",
    "\n",
    "plt.suptitle(\"HEWL EF vs. Conductivity\")\n",
    "plt.savefig(\"HEWL Ef v Sigma.png\")"
   ]
  },
  {
   "cell_type": "code",
   "execution_count": 2,
   "metadata": {},
   "outputs": [
    {
     "name": "stdout",
     "output_type": "stream",
     "text": [
      "0.011686586985391765\n",
      "0.04648074369189906\n",
      "0.03107569721115537\n",
      "0.09123505976095617\n"
     ]
    }
   ],
   "source": [
    "# morosova to MV/cm\n",
    "def moroMV(x):\n",
    "    ef = x * millimeters / (7.53 * nanometers)\n",
    "    return ef / 1e8\n",
    "\n",
    "for i in [8.8, 35, 23.4, 68.7]:\n",
    "    print(moroMV(i))"
   ]
  },
  {
   "cell_type": "code",
   "execution_count": 3,
   "metadata": {},
   "outputs": [],
   "source": [
    "moroConduct = [157, 53, 534, 461]"
   ]
  },
  {
   "cell_type": "code",
   "execution_count": 8,
   "metadata": {},
   "outputs": [],
   "source": [
    "atoms = mdtraj.load_frame('../5E21/run1/NVT-1.0-a.h5', 0)\n",
    "ions = atoms.top.select('!protein and !water')\n",
    "ion_index = mdtraj.load('../5E21/run1/NVT-1.0-a.h5', atom_indices=ions, stride=500)"
   ]
  },
  {
   "cell_type": "code",
   "execution_count": 9,
   "metadata": {},
   "outputs": [
    {
     "data": {
      "text/plain": [
       "7.003082275390624e-22"
      ]
     },
     "execution_count": 9,
     "metadata": {},
     "output_type": "execute_result"
    }
   ],
   "source": [
    "# lysozyme volume\n",
    "vol = np.mean(ion_index.unitcell_volumes)\n",
    "vol = vol * 1e-24\n",
    "vol"
   ]
  },
  {
   "cell_type": "code",
   "execution_count": 13,
   "metadata": {},
   "outputs": [],
   "source": [
    "na = 0\n",
    "cl = 0\n",
    "\n",
    "for i in ion_index.top.atoms:\n",
    "#     print(str(i)[-2:])\n",
    "    if str(i)[-2:] == 'NA':\n",
    "        na += 1\n",
    "    else:\n",
    "        cl += 1\n",
    "        \n",
    "# cl /= 6.022e23\n",
    "# na /= 6.022e23\n",
    "\n",
    "# cl /= vol\n",
    "# na /= vol\n",
    "\n",
    "# cl *= 1e3\n",
    "# na *= 1e3"
   ]
  },
  {
   "cell_type": "code",
   "execution_count": 15,
   "metadata": {},
   "outputs": [
    {
     "data": {
      "text/plain": [
       "0"
      ]
     },
     "execution_count": 15,
     "metadata": {},
     "output_type": "execute_result"
    }
   ],
   "source": [
    "na"
   ]
  },
  {
   "cell_type": "code",
   "execution_count": 12,
   "metadata": {},
   "outputs": [
    {
     "name": "stdout",
     "output_type": "stream",
     "text": [
      "Na 0.0 mM\n",
      "Cl 75.87872040575155 mM\n"
     ]
    }
   ],
   "source": [
    "print('Na', na, 'mM')\n",
    "print('Cl', cl, 'mM')"
   ]
  },
  {
   "cell_type": "code",
   "execution_count": null,
   "metadata": {},
   "outputs": [],
   "source": [
    "atoms.unitcell_lengths"
   ]
  },
  {
   "cell_type": "code",
   "execution_count": null,
   "metadata": {},
   "outputs": [],
   "source": [
    "atom = pd.DataFrame(atoms.top.atoms)"
   ]
  },
  {
   "cell_type": "code",
   "execution_count": null,
   "metadata": {
    "scrolled": true
   },
   "outputs": [],
   "source": [
    "\n",
    "nowater = mdtraj.load_frame('../crystalmd/NVT_run-2.h5', 0, atom_indices=yui)"
   ]
  },
  {
   "cell_type": "code",
   "execution_count": null,
   "metadata": {},
   "outputs": [],
   "source": [
    "atomnowater = pd.DataFrame(nowater.top.atoms)"
   ]
  },
  {
   "cell_type": "code",
   "execution_count": null,
   "metadata": {},
   "outputs": [],
   "source": [
    "atomnowater[0].tolist()"
   ]
  },
  {
   "cell_type": "code",
   "execution_count": null,
   "metadata": {},
   "outputs": [],
   "source": [
    "atomnowater = pd.DataFrame(nowater.top.atoms)\n",
    "nowater.top.select('!water and not name CA and not name LYS1 and not name C and not name O and not name CB')"
   ]
  },
  {
   "cell_type": "code",
   "execution_count": null,
   "metadata": {},
   "outputs": [],
   "source": [
    "ok = mdtraj.load('../crystalmd/NVT_run-2.h5', 0, atom_indices=cl, stride=100)"
   ]
  },
  {
   "cell_type": "code",
   "execution_count": null,
   "metadata": {},
   "outputs": [],
   "source": [
    "cl = pd.DataFrame(ok.top.select(\"name Cl\"))[0].tolist()"
   ]
  },
  {
   "cell_type": "code",
   "execution_count": null,
   "metadata": {},
   "outputs": [],
   "source": [
    "ok"
   ]
  },
  {
   "cell_type": "code",
   "execution_count": null,
   "metadata": {},
   "outputs": [],
   "source": [
    "huh = pd.read_csv('../crystalmd/NVT_run-2.csv')"
   ]
  },
  {
   "cell_type": "code",
   "execution_count": null,
   "metadata": {},
   "outputs": [],
   "source": [
    "huh"
   ]
  },
  {
   "cell_type": "code",
   "execution_count": null,
   "metadata": {},
   "outputs": [],
   "source": [
    "sns.lineplot(data=huh, x='Time (ps)', y='Temperature (K)')"
   ]
  },
  {
   "cell_type": "code",
   "execution_count": null,
   "metadata": {},
   "outputs": [],
   "source": [
    "import mdtools\n",
    "from simtk.unit import *\n",
    "from simtk.openmm.app import ForceField, Topology\n",
    "import mdtraj\n",
    "import numpy as np\n",
    "from scipy.constants import *\n",
    "import pandas as pd\n",
    "import matplotlib.pyplot as plt\n",
    "from matplotlib import cm\n",
    "from matplotlib.ticker import StrMethodFormatter\n",
    "\n",
    "import glob\n",
    "# from functions import *\n",
    "from pathlib import Path\n",
    "\n",
    "import matplotlib\n",
    "# matplotlib.use('Agg')\n",
    "\n",
    "from scipy import stats\n",
    "import seaborn as sns\n",
    "import re\n",
    "import sys"
   ]
  },
  {
   "cell_type": "code",
   "execution_count": null,
   "metadata": {},
   "outputs": [],
   "source": [
    "import pandas as pd\n",
    "import glob\n",
    "import re\n",
    "import os\n",
    "import numpy as np\n"
   ]
  },
  {
   "cell_type": "code",
   "execution_count": null,
   "metadata": {},
   "outputs": [],
   "source": [
    "import matplotlib\n",
    "import seaborn as sns\n",
    "import matplotlib.pyplot as plt\n"
   ]
  },
  {
   "cell_type": "code",
   "execution_count": null,
   "metadata": {},
   "outputs": [],
   "source": [
    "glob.glob('../txt_out/efield*.txt')"
   ]
  },
  {
   "cell_type": "code",
   "execution_count": null,
   "metadata": {},
   "outputs": [],
   "source": [
    "df = pd.concat(map(pd.read_csv, glob.glob('../txt_out/efield*.txt')))\n",
    "df"
   ]
  },
  {
   "cell_type": "code",
   "execution_count": null,
   "metadata": {},
   "outputs": [],
   "source": [
    "suffix = 'c'\n",
    "\n",
    "h5s = glob.glob(f\"../md_out/efield/*-{suffix}.h5\")\n",
    "a = [float(i[0][:-1]) for i in [re.findall(\"[-0-9.]+-\", i) for i in h5s]]\n",
    "\n",
    "pathway = [(i, j) for i,j in zip(h5s, a)]\n",
    "pathway.sort(key=lambda x: x[1])\n",
    "pathway"
   ]
  },
  {
   "cell_type": "code",
   "execution_count": null,
   "metadata": {},
   "outputs": [],
   "source": [
    "suffix = 'a'\n",
    "\n",
    "h5s = glob.glob(f\"../crystalmd/run_{suffix}/*.h5\")\n",
    "print(h5s)\n",
    "a = [i for i in [re.findall(\"[0-9.]+-\", i) for i in h5s]]\n",
    "print(a)\n",
    "pathway = [(i, j) for i,j in zip(h5s, a)]\n",
    "pathway.sort(key=lambda x: x[1])\n",
    "pathway"
   ]
  },
  {
   "cell_type": "code",
   "execution_count": null,
   "metadata": {},
   "outputs": [],
   "source": [
    "glob.glob('../txt_out/*.txt')"
   ]
  },
  {
   "cell_type": "code",
   "execution_count": null,
   "metadata": {},
   "outputs": [],
   "source": [
    "pd.read_csv('../txt_out/efield-04.txt')"
   ]
  },
  {
   "cell_type": "code",
   "execution_count": null,
   "metadata": {},
   "outputs": [],
   "source": []
  },
  {
   "cell_type": "code",
   "execution_count": null,
   "metadata": {},
   "outputs": [],
   "source": [
    "ef[0]._value"
   ]
  },
  {
   "cell_type": "code",
   "execution_count": null,
   "metadata": {},
   "outputs": [],
   "source": [
    "from simtk.unit import *\n",
    "ef = 5*(kilojoule_per_mole/nanometer/elementary_charge)\n",
    "ef = (ef.in_units_of(volts/centimeter/mole)/AVOGADRO_CONSTANT_NA)\n",
    "print(ef)                           # prints Quantity(value=518213.4402345789, unit=volt/centimeter)\n"
   ]
  },
  {
   "cell_type": "code",
   "execution_count": null,
   "metadata": {},
   "outputs": [],
   "source": [
    "df['efield'] = df['efield']*(kilojoule_per_mole/nanometer/elementary_charge)\n",
    "df['efield'] = df['efield'].in_units_of(volts/centimeter/mole)/AVOGADRO_CONSTANT_NA\n",
    "df\n"
   ]
  },
  {
   "cell_type": "code",
   "execution_count": null,
   "metadata": {},
   "outputs": [],
   "source": [
    "sns.histplot(pd.read_csv('NPT_run_a.csv')['Box Volume (nm^3)'])\n",
    "plt.axvline(474.3)"
   ]
  },
  {
   "cell_type": "code",
   "execution_count": null,
   "metadata": {
    "scrolled": true
   },
   "outputs": [],
   "source": [
    "df = pd.concat((pd.read_csv(f, names=['path', 'conductivity', 'efield']) for f in glob.glob('../txt_out/[efield]*.txt')), join='outer')\n",
    "df.loc[df['efield'] == 2]"
   ]
  },
  {
   "cell_type": "code",
   "execution_count": null,
   "metadata": {
    "scrolled": false
   },
   "outputs": [],
   "source": [
    "df = pd.concat((pd.read_csv(f, names=['path', 'conductivity', 'efield']) for f in glob.glob('../txt_out/[efield]*.txt')), join='outer')\n",
    "df = df.drop(df[df['efield'] == 0].index)\n",
    "\n",
    "ok = []\n",
    "for i in df[['path']].to_numpy():\n",
    "    ok.append(int(i[0].split('/')[-1][:-5]))\n",
    "    \n",
    "df[['efield']] = ok\n",
    "\n",
    "df = df.drop(columns=['path'])\n",
    "\n",
    "df = df.astype('float')\n",
    "\n",
    "df = df.sort_values('efield')\n",
    "\n",
    "\n",
    "for i in range(27):\n",
    "    df.iloc[i]['conductivity'] = np.abs(df.iloc[i]['conductivity'])\n",
    "\n",
    "ef = df[['efield']].to_numpy(dtype=object).flatten()\n",
    "for i in range(len(ef)):\n",
    "    \n",
    "    ef[i] = ef[i]*(kilojoule_per_mole/nanometer/elementary_charge)\n",
    "    ef[i] = ef[i].in_units_of(volts/centimeter/mole)/AVOGADRO_CONSTANT_NA\n",
    "    ef[i] /= 10e6\n",
    "    ef[i] = np.round(ef[i]._value, 2)\n",
    "df[['efield']] = ef\n",
    "\n",
    "\n",
    "display(df)\n",
    "fig, axs = plt.subplots(1, 1, figsize=(10,5), dpi=100)\n",
    "sns.pointplot(x='efield', y='conductivity', data=df, join=False, dodge=True, ci='sd', ax=axs)\n",
    "axs.set(xlabel=\"Efield (MV/cm)\", ylabel = \"Conductivity (mS/cm)\")\n",
    "axs.axhline(0)\n",
    "plt.show()\n",
    "\n",
    "df[['conductivity']] = df[['conductivity']].abs()\n",
    "\n",
    "fig, axs = plt.subplots(1, 1, figsize=(10,5), dpi=100)\n",
    "sns.pointplot(x='efield', y='conductivity', data=df, join=False, dodge=True, ci='sd', ax=axs)\n",
    "axs.set(xlabel=\"Efield (MV/cm)\", ylabel = \"Conductivity (mS/cm)\")\n",
    "plt.show()"
   ]
  },
  {
   "cell_type": "code",
   "execution_count": null,
   "metadata": {},
   "outputs": [],
   "source": [
    "ok = pd.read_csv('run_b.csv')\n",
    "plt.figure(dpi=150, figsize=(8,3))\n",
    "sns.lineplot(data=ok, x='Time (ps)', y='Total Energy (kJ/mole)', palette='Set1', color='dodgerblue')\n",
    "plt.title('Production Energy Change (run_a)')\n",
    "plt.show()"
   ]
  },
  {
   "cell_type": "code",
   "execution_count": null,
   "metadata": {},
   "outputs": [],
   "source": [
    "ok = pd.read_csv('run_b.csv')\n",
    "plt.figure(dpi=150, figsize=(8,3))\n",
    "sns.lineplot(data=ok, x='Time (ps)', y='Box Volume (nm^3)', palette='Set1', color='salmon')\n",
    "plt.title('Production Volume Change (run_b)')\n",
    "plt.show()"
   ]
  },
  {
   "cell_type": "code",
   "execution_count": null,
   "metadata": {},
   "outputs": [],
   "source": []
  }
 ],
 "metadata": {
  "kernelspec": {
   "display_name": "Python 3",
   "language": "python",
   "name": "python3"
  },
  "language_info": {
   "codemirror_mode": {
    "name": "ipython",
    "version": 3
   },
   "file_extension": ".py",
   "mimetype": "text/x-python",
   "name": "python",
   "nbconvert_exporter": "python",
   "pygments_lexer": "ipython3",
   "version": "3.7.6"
  }
 },
 "nbformat": 4,
 "nbformat_minor": 4
}
